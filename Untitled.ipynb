{
 "cells": [
  {
   "cell_type": "code",
   "execution_count": null,
   "id": "7e0846ff",
   "metadata": {},
   "outputs": [],
   "source": [
    "alfabeto = ('a', 'b', 'c', 'd')\n",
    "frase = 'abbbdbdbc'\n",
    "\n",
    "numfrase = len(frase)\n",
    "while(numfrase > 0):\n",
    "    print(frase[numfrase -1])\n",
    "    numfrase = numfrase - 1\n",
    "}\n",
    "\n",
    "\n"
   ]
  }
 ],
 "metadata": {
  "kernelspec": {
   "display_name": "Python 3 (ipykernel)",
   "language": "python",
   "name": "python3"
  },
  "language_info": {
   "codemirror_mode": {
    "name": "ipython",
    "version": 3
   },
   "file_extension": ".py",
   "mimetype": "text/x-python",
   "name": "python",
   "nbconvert_exporter": "python",
   "pygments_lexer": "ipython3",
   "version": "3.9.7"
  }
 },
 "nbformat": 4,
 "nbformat_minor": 5
}
